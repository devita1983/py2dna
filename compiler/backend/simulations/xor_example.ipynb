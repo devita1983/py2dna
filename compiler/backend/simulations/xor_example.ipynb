{
 "cells": [
  {
   "cell_type": "code",
   "execution_count": null,
   "id": "58db22a6",
   "metadata": {
    "vscode": {
     "languageId": "plaintext"
    }
   },
   "outputs": [],
   "source": [
    "from compiler.frontend.parser import Py2DNA_Parser\n",
    "from compiler.backend.dna_generator import DNA_Generator\n",
    "\n",
    "# Código de entrada\n",
    "code = \"\"\"\n",
    "input_A = DNA(\"ACG\")\n",
    "input_B = DNA(\"CAT\")\n",
    "if input_A != input_B:\n",
    "    output = DNA(\"CTAA\")\n",
    "\"\"\"\n",
    "\n",
    "# Parsing\n",
    "parser = Py2DNA_Parser()\n",
    "parsed = parser.parse(code)\n",
    "\n",
    "# Compilação para DNA\n",
    "generator = DNA_Generator()\n",
    "dna_code = generator.generate(parsed)\n",
    "\n",
    "print(dna_code)"
   ]
  }
 ],
 "metadata": {
  "language_info": {
   "name": "python"
  }
 },
 "nbformat": 4,
 "nbformat_minor": 5
}
