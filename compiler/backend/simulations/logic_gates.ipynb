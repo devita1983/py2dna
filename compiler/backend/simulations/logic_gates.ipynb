{
 "cells": [
  {
   "cell_type": "code",
   "execution_count": null,
   "id": "06a2cbcb",
   "metadata": {
    "vscode": {
     "languageId": "plaintext"
    }
   },
   "outputs": [],
   "source": [
    "from compiler.frontend.parser import Py2DNA_Parser\n",
    "from compiler.backend.dna_generator import DNA_Generator\n",
    "\n",
    "# Código com AND/OR\n",
    "code = \"\"\"\n",
    "input_A = DNA(\"ACG\")\n",
    "input_B = DNA(\"CAT\")\n",
    "if input_A and input_B:\n",
    "    output = DNA(\"TAGG\")\n",
    "elif input_A or input_B:\n",
    "    output = DNA(\"CTAA\")\n",
    "\"\"\"\n",
    "\n",
    "# Parsing\n",
    "parser = Py2DNA_Parser()\n",
    "parsed = parser.parse(code)\n",
    "print(\"Parsed:\", parsed)\n",
    "\n",
    "# Compilação\n",
    "generator = DNA_Generator()\n",
    "dna_code = generator.generate(parsed)\n",
    "print(\"\\nDNA Code:\\n\", dna_code)"
   ]
  }
 ],
 "metadata": {
  "language_info": {
   "name": "python"
  }
 },
 "nbformat": 4,
 "nbformat_minor": 5
}
